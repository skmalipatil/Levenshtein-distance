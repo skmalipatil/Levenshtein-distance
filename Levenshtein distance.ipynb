{
 "cells": [
  {
   "cell_type": "code",
   "execution_count": 1,
   "metadata": {},
   "outputs": [],
   "source": [
    "def lavenshtein_distance(a, b):\n",
    "    lengths = [[0]*(len(b)+1) for _ in range(len(a)+1)]\n",
    "    for i, x in enumerate(a):\n",
    "        for j, y in enumerate(b):\n",
    "            if i == 0:\n",
    "                for k in range(len(b)+1):\n",
    "                    lengths[i][k] = k\n",
    "            if j == 0:\n",
    "                for l in range(len(a)+1):\n",
    "                    lengths[l][j] = l\n",
    "                    \n",
    "    for i, x in enumerate(a):\n",
    "        for j, y in enumerate(b):\n",
    "            if x == y:\n",
    "                lengths[i+1][j+1] = lengths[i][j]\n",
    "            else:\n",
    "                lengths[i+1][j+1] = min(lengths[i][j+1], lengths[i+1][j], lengths[i][j])+1\n",
    "    return(lengths[len(a)][len(b)])"
   ]
  },
  {
   "cell_type": "code",
   "execution_count": 2,
   "metadata": {},
   "outputs": [
    {
     "data": {
      "text/plain": [
       "3"
      ]
     },
     "execution_count": 2,
     "metadata": {},
     "output_type": "execute_result"
    }
   ],
   "source": [
    "lavenshtein_distance('sanday', 'saturday')"
   ]
  }
 ],
 "metadata": {
  "kernelspec": {
   "display_name": "Python 3",
   "language": "python",
   "name": "python3"
  },
  "language_info": {
   "codemirror_mode": {
    "name": "ipython",
    "version": 3
   },
   "file_extension": ".py",
   "mimetype": "text/x-python",
   "name": "python",
   "nbconvert_exporter": "python",
   "pygments_lexer": "ipython3",
   "version": "3.7.6"
  }
 },
 "nbformat": 4,
 "nbformat_minor": 4
}
